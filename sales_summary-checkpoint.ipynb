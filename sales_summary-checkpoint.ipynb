{
 "cells": [
  {
   "cell_type": "markdown",
   "metadata": {},
   "source": [
    "# Task 7: Basic Sales Summary from SQLite Database\n",
    "\n",
    "This notebook connects to a small SQLite database, runs SQL queries to summarize sales data, and displays the results using print statements and a bar chart."
   ]
  },
  {
   "cell_type": "code",
   "execution_count": null,
   "metadata": {},
   "outputs": [],
   "source": [
    "# Import required libraries\n",
    "import sqlite3\n",
    "import pandas as pd\n",
    "import matplotlib.pyplot as plt\n",
    "\n",
    "# Create or connect to the SQLite database\n",
    "conn = sqlite3.connect('sales_data.db')\n",
    "\n",
    "# Create a sales table and insert sample data\n",
    "cursor = conn.cursor()\n",
    "cursor.execute('''DROP TABLE IF EXISTS sales''')\n",
    "cursor.execute('''CREATE TABLE sales\n",
    "                 (product TEXT, quantity INTEGER, price REAL)''')\n",
    "sample_data = [\n",
    "    ('Laptop', 5, 800.0),\n",
    "    ('Phone', 10, 400.0),\n",
    "    ('Tablet', 7, 300.0),\n",
    "    ('Laptop', 3, 800.0),\n",
    "    ('Phone', 4, 400.0)\n",
    "]\n",
    "cursor.executemany('INSERT INTO sales VALUES (?, ?, ?)', sample_data)\n",
    "conn.commit()\n",
    "\n",
    "print(\"Database and table created with sample data.\")"
   ]
  },
  {
   "cell_type": "code",
   "execution_count": null,
   "metadata": {},
   "outputs": [],
   "source": [
    "# Run SQL query to get total quantity and revenue per product\n",
    "query = \"SELECT product, SUM(quantity) AS total_qty, SUM(quantity * price) AS revenue FROM sales GROUP BY product\"\n",
    "df = pd.read_sql_query(query, conn)\n",
    "\n",
    "# Display results using print\n",
    "print(\"Sales Summary:\")\n",
    "print(df)\n",
    "\n",
    "# Create a bar chart\n",
    "df.plot(kind='bar', x='product', y='revenue', legend=False)\n",
    "plt.title('Total Revenue by Product')\n",
    "plt.xlabel('Product')\n",
    "plt.ylabel('Revenue ($)')\n",
    "plt.show()\n",
    "\n",
    "# Optional: Save the chart\n",
    "plt.savefig('sales_chart.png')\n",
    "\n",
    "# Close the connection\n",
    "conn.close()"
   ]
  }
 ],
 "metadata": {
  "kernelspec": {
   "display_name": "Python 3",
   "language": "python",
   "name": "python3"
  },
  "language_info": {
   "codemirror_mode": {
    "name": "ipython",
    "version": 3
   },
   "file_extension": ".py",
   "mimetype": "text/x-python",
   "name": "python",
   "nbconvert_exporter": "python",
   "pygments_lexer": "ipython3",
   "version": "3.8.5"
  }
 },
 "nbformat": 4,
 "nbformat_minor": 4
}